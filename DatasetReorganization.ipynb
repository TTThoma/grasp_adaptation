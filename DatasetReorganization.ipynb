{
 "cells": [
  {
   "cell_type": "code",
   "execution_count": 4,
   "metadata": {},
   "outputs": [],
   "source": [
    "import numpy as np\n",
    "import os\n",
    "from matplotlib import pyplot as plt\n",
    "%matplotlib inline"
   ]
  },
  {
   "cell_type": "code",
   "execution_count": 10,
   "metadata": {},
   "outputs": [],
   "source": [
    "method = \"EXP3\"\n",
    "total_data_cnt = 0\n",
    "batch_size = 20\n",
    "\n",
    "for j in range(172):\n",
    "    grasp_metrics = np.load('./dynamic_grasp_data/training/tensors/grasp_metrics_%05d.npz'%j)['arr_0']\n",
    "    tf_depth_ims = np.load('./dynamic_grasp_data/training/tensors/tf_depth_ims_%05d.npz'%j)['arr_0']\n",
    "    grasps = np.load('./dynamic_grasp_data/training/tensors/grasps_%05d.npz'%j)['arr_0']\n",
    "    \n",
    "    current_data_cnt = len(grasp_metrics)\n",
    "    number_of_batch = int(current_data_cnt/batch_size)\n",
    "    for i in range(number_of_batch):\n",
    "    \n",
    "        with open(os.path.join(\"./dynamic_grasp_data/\"+method+\"-FC/tensors\", 'grasp_metrics_%05d.npz'%total_data_cnt), 'wb') as f_dim:\n",
    "            np.savez(f_dim, grasp_metrics[i*batch_size:(i+1)*batch_size])\n",
    "\n",
    "        with open(os.path.join(\"./dynamic_grasp_data/\"+method+\"-FC/tensors\", 'tf_depth_ims_%05d.npz'%total_data_cnt), 'wb') as f_grasp:\n",
    "            np.savez(f_grasp, tf_depth_ims[i*batch_size:(i+1)*batch_size])\n",
    "\n",
    "        with open(os.path.join(\"./dynamic_grasp_data/\"+method+\"-FC/tensors\", 'grasps_%05d.npz'%total_data_cnt), 'wb') as f_metric:\n",
    "            np.savez(f_metric, grasps[i*batch_size:(i+1)*batch_size])\n",
    "            \n",
    "        total_data_cnt+=1"
   ]
  },
  {
   "cell_type": "code",
   "execution_count": 11,
   "metadata": {},
   "outputs": [
    {
     "data": {
      "text/plain": [
       "860"
      ]
     },
     "execution_count": 11,
     "metadata": {},
     "output_type": "execute_result"
    }
   ],
   "source": [
    "total_data_cnt"
   ]
  }
 ],
 "metadata": {
  "kernelspec": {
   "display_name": "Python 2",
   "language": "python",
   "name": "python2"
  },
  "language_info": {
   "codemirror_mode": {
    "name": "ipython",
    "version": 2
   },
   "file_extension": ".py",
   "mimetype": "text/x-python",
   "name": "python",
   "nbconvert_exporter": "python",
   "pygments_lexer": "ipython2",
   "version": "2.7.12"
  }
 },
 "nbformat": 4,
 "nbformat_minor": 2
}
