{
 "cells": [
  {
   "cell_type": "code",
   "execution_count": 1,
   "metadata": {},
   "outputs": [
    {
     "name": "stderr",
     "output_type": "stream",
     "text": [
      "/home/dof6/.local/lib/python2.7/site-packages/requests/__init__.py:83: RequestsDependencyWarning: Old version of cryptography ([1, 2, 3]) may cause slowdown.\n",
      "  warnings.warn(warning, RequestsDependencyWarning)\n"
     ]
    }
   ],
   "source": [
    "import os\n",
    "import numpy as np\n",
    "import tensorflow as tf"
   ]
  },
  {
   "cell_type": "code",
   "execution_count": 2,
   "metadata": {},
   "outputs": [],
   "source": [
    "def _parse_function(example_proto):\n",
    "    features = {\n",
    "        'eef_position': tf.FixedLenFeature([], tf.string),\n",
    "        'eef_quaternion': tf.FixedLenFeature([], tf.string),\n",
    "        'eef_euler': tf.FixedLenFeature([], tf.string),\n",
    "        'cropped_color_image': tf.FixedLenFeature([], tf.string),\n",
    "        'cropped_depth_image': tf.FixedLenFeature([], tf.string),\n",
    "        'grasp_width': tf.FixedLenFeature([], tf.float32),\n",
    "        'grasp_depth': tf.FixedLenFeature([], tf.float32),\n",
    "        'grasp_quality': tf.FixedLenFeature([], tf.float32)\n",
    "    }\n",
    "    parsed_features = tf.parse_single_example(example_proto, features)\n",
    "    \n",
    "    gripper_position = tf.decode_raw((parsed_features['eef_position']), tf.float32)\n",
    "    gripper_position = tf.reshape(gripper_position,[3])\n",
    "    \n",
    "    gripper_quaternion = tf.decode_raw((parsed_features['eef_quaternion']), tf.float32)\n",
    "    gripper_quaternion = tf.reshape(gripper_quaternion,[4])\n",
    "    \n",
    "    gripper_euler = tf.decode_raw((parsed_features['eef_euler']), tf.float32)\n",
    "    gripper_euler = tf.reshape(gripper_euler,[3])\n",
    "    \n",
    "    cropped_color_image = tf.decode_raw((parsed_features['cropped_color_image']), tf.float32)\n",
    "    cropped_color_image = tf.reshape(cropped_color_image,[50, 50, 3])\n",
    "    \n",
    "    cropped_depth_image = tf.decode_raw((parsed_features['cropped_depth_image']), tf.float32)\n",
    "    cropped_depth_image = tf.reshape(cropped_depth_image,[50, 50, 1])\n",
    "    \n",
    "    grasp_depth = parsed_features['grasp_depth']\n",
    "    grasp_depth = tf.reshape(grasp_depth,[1])\n",
    "    \n",
    "    grasp_width = parsed_features['grasp_width']\n",
    "    grasp_width = tf.reshape(grasp_width,[1])\n",
    "    \n",
    "    grasp_quality = parsed_features['grasp_quality']\n",
    "    grasp_quality = tf.reshape(grasp_quality,[1])\n",
    "\n",
    "    return gripper_position, gripper_quaternion, gripper_euler, cropped_color_image, cropped_depth_image, grasp_depth, grasp_width, grasp_quality"
   ]
  },
  {
   "cell_type": "code",
   "execution_count": 3,
   "metadata": {},
   "outputs": [
    {
     "name": "stderr",
     "output_type": "stream",
     "text": [
      "WARNING: Logging before flag parsing goes to stderr.\n",
      "W0804 15:14:41.551829 140273787422464 deprecation.py:323] From <ipython-input-3-809223fd69ce>:10: make_initializable_iterator (from tensorflow.python.data.ops.dataset_ops) is deprecated and will be removed in a future version.\n",
      "Instructions for updating:\n",
      "Use `for ... in dataset:` to iterate over a dataset. If using `tf.estimator`, return the `Dataset` object directly from your input function. As a last resort, you can use `tf.compat.v1.data.make_initializable_iterator(dataset)`.\n"
     ]
    },
    {
     "name": "stdout",
     "output_type": "stream",
     "text": [
      "Training Iterator\n",
      "(?, 3)\n",
      "(?, 4)\n",
      "(?, 50, 50, 3)\n",
      "(?, 50, 50, 1)\n",
      "(?, 1)\n",
      "Test Iterator\n",
      "(?, 3)\n",
      "(?, 4)\n",
      "(?, 50, 50, 3)\n",
      "(?, 50, 50, 1)\n",
      "(?, 1)\n"
     ]
    }
   ],
   "source": [
    "tf.reset_default_graph()\n",
    "\n",
    "training_dataset = tf.data.TFRecordDataset('./grasp_data/t_shape/training.tfrecord')\n",
    "training_dataset = training_dataset.map(_parse_function)\n",
    "\n",
    "training_dataset = training_dataset.repeat()\n",
    "training_dataset = training_dataset.batch(200)\n",
    "training_dataset = training_dataset.shuffle(buffer_size=200)\n",
    "\n",
    "training_iterator = training_dataset.make_initializable_iterator()\n",
    "training_gripper_position, training_gripper_quaternion, training_gripper_euler, training_cropped_color_image, training_cropped_depth_image, training_grasp_depth, training_grasp_width, training_grasp_quality = training_iterator.get_next()\n",
    "\n",
    "test_dataset = tf.data.TFRecordDataset('./grasp_data/t_shape/test.tfrecord')\n",
    "test_dataset = test_dataset.map(_parse_function)\n",
    "\n",
    "test_dataset = test_dataset.repeat()\n",
    "test_dataset = test_dataset.batch(200)\n",
    "\n",
    "test_iterator = test_dataset.make_initializable_iterator()\n",
    "test_gripper_position, test_gripper_quaternion, test_gripper_euler, test_cropped_color_image, test_cropped_depth_image, test_grasp_depth, test_grasp_width, test_grasp_quality = test_iterator.get_next()\n",
    "\n",
    "print('Training Iterator')\n",
    "print(training_gripper_position.shape)\n",
    "print(training_gripper_quaternion.shape)\n",
    "print(training_cropped_color_image.shape)\n",
    "print(training_cropped_depth_image.shape)\n",
    "print(training_grasp_quality.shape)\n",
    "\n",
    "print('Test Iterator')\n",
    "print(test_gripper_position.shape)\n",
    "print(test_gripper_quaternion.shape)\n",
    "print(test_cropped_color_image.shape)\n",
    "print(test_cropped_depth_image.shape)\n",
    "print(test_grasp_quality.shape)"
   ]
  },
  {
   "cell_type": "code",
   "execution_count": 4,
   "metadata": {},
   "outputs": [
    {
     "name": "stderr",
     "output_type": "stream",
     "text": [
      "W0804 15:14:41.645776 140273787422464 deprecation.py:323] From <ipython-input-4-c099770e3210>:5: conv2d (from tensorflow.python.layers.convolutional) is deprecated and will be removed in a future version.\n",
      "Instructions for updating:\n",
      "Use `tf.keras.layers.Conv2D` instead.\n",
      "W0804 15:14:41.872872 140273787422464 deprecation.py:323] From <ipython-input-4-c099770e3210>:7: batch_normalization (from tensorflow.python.layers.normalization) is deprecated and will be removed in a future version.\n",
      "Instructions for updating:\n",
      "Use keras.layers.BatchNormalization instead.  In particular, `tf.control_dependencies(tf.GraphKeys.UPDATE_OPS)` should not be used (consult the `tf.keras.layers.batch_normalization` documentation).\n",
      "W0804 15:14:41.970994 140273787422464 deprecation.py:323] From <ipython-input-4-c099770e3210>:12: max_pooling2d (from tensorflow.python.layers.pooling) is deprecated and will be removed in a future version.\n",
      "Instructions for updating:\n",
      "Use keras.layers.MaxPooling2D instead.\n",
      "W0804 15:14:42.202980 140273787422464 deprecation.py:323] From <ipython-input-4-c099770e3210>:29: dense (from tensorflow.python.layers.core) is deprecated and will be removed in a future version.\n",
      "Instructions for updating:\n",
      "Use keras.layers.dense instead.\n"
     ]
    }
   ],
   "source": [
    "def quality_network_build(cropped_depth_image, gripper_quaternion, reuse=False, use_bn=True, network_type=\"large\"):\n",
    "    with tf.variable_scope(\"quality_network\",reuse=reuse):\n",
    "        if network_type is \"large\":\n",
    "            h = tf.layers.conv2d(cropped_depth_image, 32, [7,7], activation=tf.nn.relu,\n",
    "                                 kernel_initializer=tf.random_normal_initializer(stddev=0.01), name=\"conv1\")\n",
    "            if use_bn:\n",
    "                h = tf.layers.batch_normalization(h)\n",
    "            h = tf.layers.conv2d(h, 32, [7,7], activation=tf.nn.relu,\n",
    "                                 kernel_initializer=tf.random_normal_initializer(stddev=0.01), name=\"conv2\")\n",
    "            if use_bn:\n",
    "                h = tf.layers.batch_normalization(h)\n",
    "            h = tf.layers.max_pooling2d(h, [2,2], [2,2], name=\"max1\")\n",
    "            h = tf.layers.conv2d(h, 32, [5,5], activation=tf.nn.relu,\n",
    "                                 kernel_initializer=tf.random_normal_initializer(stddev=0.01), name=\"conv3\")\n",
    "            if use_bn:\n",
    "                h = tf.layers.batch_normalization(h)\n",
    "            h = tf.layers.conv2d(h, 32, [5,5], activation=tf.nn.relu,\n",
    "                                 kernel_initializer=tf.random_normal_initializer(stddev=0.01), name=\"conv4\")\n",
    "            if use_bn:\n",
    "                h = tf.layers.batch_normalization(h)\n",
    "            h = tf.layers.max_pooling2d(h, [3,3], [2,2], name=\"max2\")\n",
    "            h = tf.layers.conv2d(h, 128, [5,5], activation=tf.nn.relu,\n",
    "                                 kernel_initializer=tf.random_normal_initializer(stddev=0.01), name=\"conv5\")\n",
    "            if use_bn:\n",
    "                h = tf.layers.batch_normalization(h)\n",
    "            h = tf.reshape(h,[-1,128])\n",
    "            h = tf.concat([h, gripper_quaternion], axis=1)\n",
    "            h = tf.layers.dense(h, 256, activation=tf.nn.relu,\n",
    "                                kernel_initializer=tf.random_normal_initializer(stddev=0.01), name=\"fc1\")\n",
    "            h = tf.layers.dense(h, 256, activation=tf.nn.relu,\n",
    "                                kernel_initializer=tf.random_normal_initializer(stddev=0.01), name=\"fc2\")\n",
    "               \n",
    "        quality_logit = tf.layers.dense(h, 1,\n",
    "                                  kernel_initializer=tf.random_normal_initializer(stddev=0.01), name=\"quality_logit\")\n",
    "        quality = tf.sigmoid(quality_logit)\n",
    "    return quality_logit, quality\n",
    "\n",
    "_, training_quality_prediction = quality_network_build(training_cropped_depth_image,training_gripper_quaternion)\n",
    "_, test_quality_prediction = quality_network_build(test_cropped_depth_image,test_gripper_quaternion, reuse=True)"
   ]
  },
  {
   "cell_type": "code",
   "execution_count": 5,
   "metadata": {},
   "outputs": [
    {
     "name": "stdout",
     "output_type": "stream",
     "text": [
      "()\n",
      "()\n"
     ]
    }
   ],
   "source": [
    "training_loss = -training_grasp_quality*tf.log(training_quality_prediction+1e-8) - (1.-training_grasp_quality)*tf.log((1.-training_quality_prediction)+1e-8)\n",
    "training_loss = tf.reduce_mean(training_loss)\n",
    "equality = tf.equal(tf.cast(training_quality_prediction > 0.5, tf.float32), training_grasp_quality)\n",
    "training_accuracy = tf.reduce_mean(tf.cast(equality, tf.float32))\n",
    "\n",
    "test_loss = -test_grasp_quality*tf.log(test_quality_prediction+1e-8) - (1.-test_grasp_quality)*tf.log((1.-test_quality_prediction)+1e-8)\n",
    "test_loss = tf.reduce_mean(test_loss)\n",
    "equality = tf.equal(tf.cast(test_quality_prediction > 0.5, tf.float32), test_grasp_quality)\n",
    "test_accuracy = tf.reduce_mean(tf.cast(equality, tf.float32))\n",
    "\n",
    "print(training_loss.shape)\n",
    "print(test_loss.shape)"
   ]
  },
  {
   "cell_type": "code",
   "execution_count": 6,
   "metadata": {},
   "outputs": [],
   "source": [
    "def optimizer(training_loss, initial_learning_rate=1e-4, decay_type=None, max_steps=1500):\n",
    "    if decay_type is None:\n",
    "        learning_rate = initial_learning_rate\n",
    "    elif decay_type is \"cosine_decay\":\n",
    "        global_step = tf.train.get_or_create_global_step()\n",
    "        learning_rate = tf.train.cosine_decay(initial_learning_rate, global_step, max_steps)\n",
    "    elif decay_type is \"linear_cosine_decay\":\n",
    "        global_step = tf.train.get_or_create_global_step()\n",
    "        learning_rate = tf.train.linear_cosine_decay(initial_learning_rate, global_step, max_steps)\n",
    "\n",
    "    optimizer = tf.train.AdamOptimizer(learning_rate=learning_rate)\n",
    "    training_loss_optimizer = optimizer.minimize(training_loss)\n",
    "    return training_loss_optimizer\n",
    "\n",
    "training_loss_optimizer = optimizer(training_loss, initial_learning_rate=1e-4)"
   ]
  },
  {
   "cell_type": "code",
   "execution_count": 7,
   "metadata": {},
   "outputs": [],
   "source": [
    "config = tf.ConfigProto()\n",
    "config.gpu_options.allow_growth = True\n",
    "sess = tf.Session(config=config)\n",
    "sess.run(training_iterator.initializer)\n",
    "sess.run(test_iterator.initializer)\n",
    "sess.run(tf.global_variables_initializer())"
   ]
  },
  {
   "cell_type": "code",
   "execution_count": 9,
   "metadata": {
    "scrolled": true
   },
   "outputs": [
    {
     "name": "stdout",
     "output_type": "stream",
     "text": [
      "(0.20855696417391334, 0.9070299992561338, 0.893499999642372)\n",
      "(0.20571058008447268, 0.9104800004959103, 0.8963999974727633)\n",
      "(0.20773050656169648, 0.9073799995183934, 0.902499998807907)\n",
      "(0.20126358603313563, 0.912019999027253, 0.8923999983072285)\n",
      "(0.20854194402322188, 0.9080200011730191, 0.8920000004768374)\n",
      "(0.1999400777369737, 0.9133500018119803, 0.9014499962329866)\n",
      "(0.20372863617539425, 0.9106400002241143, 0.8918499982357028)\n",
      "(0.20138106142357012, 0.9126000001430513, 0.8969499987363816)\n",
      "(0.19648613476566967, 0.9120100001096726, 0.903999999165535)\n",
      "(0.19856600737571725, 0.9129600014686582, 0.8980999976396564)\n",
      "(0.20448127267509716, 0.9087700010538093, 0.8934500008821487)\n",
      "(0.19560368781397125, 0.9148100000619885, 0.905649998188019)\n",
      "(0.1975602662879975, 0.912380000591278, 0.898550002574921)\n",
      "(0.20071421094611272, 0.9114000002145757, 0.8967000025510787)\n",
      "(0.1929586885191966, 0.9164499989748006, 0.9035000008344647)\n",
      "(0.18866380009055153, 0.9173000005483629, 0.8957999980449677)\n",
      "(0.19717567968741073, 0.912679999589919, 0.8944000011682509)\n",
      "(0.19828502982668578, 0.9120300003290175, 0.9012499970197678)\n",
      "(0.19232800319558022, 0.918129999518393, 0.9021500009298324)\n",
      "(0.18936047274991874, 0.9172100001573565, 0.8972000032663348)\n",
      "(0.18825345198065055, 0.9174000000953673, 0.878350000977516)\n",
      "(0.1946759612467139, 0.9135800002813336, 0.9041000008583071)\n",
      "(0.19017405349947483, 0.9168199988603599, 0.8947000002861023)\n",
      "(0.1885309696756301, 0.9178500000238415, 0.9001499968767167)\n",
      "(0.19192625954002165, 0.9152700004577641, 0.9031999969482423)\n",
      "(0.19007963961735366, 0.91666000020504, 0.8997999978065494)\n",
      "(0.183434549542144, 0.9195599994659419, 0.9010000008344651)\n",
      "(0.17872572878375656, 0.9213699992895131, 0.9076000005006791)\n",
      "(0.191328895945102, 0.9158200000524522, 0.8976499980688092)\n",
      "(0.18686073384061466, 0.9175899986028666, 0.9019999986886978)\n",
      "(0.1814972175471485, 0.9227699991464614, 0.9080999982357026)\n",
      "(0.18453187851840616, 0.9180800011157987, 0.8992000001668933)\n",
      "(0.18478311079740523, 0.9189399993419646, 0.9080999976396563)\n",
      "(0.18256396985426546, 0.9195299990177149, 0.9086000001430511)\n",
      "(0.1815184926390648, 0.9202599998712545, 0.8987500005960467)\n",
      "(0.17654104051366454, 0.9233399994373331, 0.9006999999284745)\n",
      "(0.18368261284753673, 0.9194800000190732, 0.9105500006675722)\n",
      "(0.18047099917009468, 0.9205000004768371, 0.9034000003337862)\n",
      "(0.17708771683648233, 0.9238000005483625, 0.9043999993801121)\n",
      "(0.18000032277405237, 0.9203400000333788, 0.9100999963283545)\n",
      "(0.1823189087621868, 0.9206300003528609, 0.9017000001668929)\n",
      "(0.1756530099287629, 0.9243700004816062, 0.9068499988317495)\n",
      "(0.17459935455769304, 0.9236400003433239, 0.906350000500679)\n",
      "(0.18085739590227598, 0.9211499996185308, 0.9041999983787536)\n",
      "(0.17765304847434155, 0.9213100014925004, 0.9119999980926516)\n",
      "(0.17634426800534128, 0.922770000457763, 0.9069000035524372)\n",
      "(0.1697815490588547, 0.925719999551774, 0.9043499994277957)\n",
      "(0.17492231912538422, 0.9246900016069415, 0.9085500001907348)\n",
      "(0.17319206286594255, 0.9245099987983707, 0.9100999981164929)\n",
      "(0.17259876383841039, 0.9248299999237063, 0.9037499994039534)\n"
     ]
    }
   ],
   "source": [
    "from collections import deque\n",
    "import numpy as np\n",
    "\n",
    "epoches = 250\n",
    "training_loss_list = []\n",
    "training_acc_list = []\n",
    "test_acc_list = []\n",
    "training_batch = 500\n",
    "test_batch = 100\n",
    "\n",
    "for epoch in range(epoches):\n",
    "    avg_training_loss = 0\n",
    "    avg_training_acc = 0\n",
    "    \n",
    "    for i in range(training_batch):\n",
    "        training_loss_np, training_accuracy_np, _ = sess.run([training_loss, training_accuracy, training_loss_optimizer])\n",
    "        avg_training_loss += training_loss_np/training_batch\n",
    "        avg_training_acc += training_accuracy_np/training_batch\n",
    "        \n",
    "    avg_test_acc = 0\n",
    "    for _ in range(test_batch):\n",
    "        test_accuracy_np, = sess.run([test_accuracy])\n",
    "        avg_test_acc += test_accuracy_np/test_batch\n",
    "    \n",
    "    print(avg_training_loss, avg_training_acc, avg_test_acc)\n",
    "    training_loss_list.append(avg_training_loss)\n",
    "    training_acc_list.append(avg_training_acc)\n",
    "    test_acc_list.append(avg_test_acc)"
   ]
  },
  {
   "cell_type": "code",
   "execution_count": 1,
   "metadata": {},
   "outputs": [
    {
     "ename": "NameError",
     "evalue": "name 'tf' is not defined",
     "output_type": "error",
     "traceback": [
      "\u001b[0;31m---------------------------------------------------------------------------\u001b[0m",
      "\u001b[0;31mNameError\u001b[0m                                 Traceback (most recent call last)",
      "\u001b[0;32m<ipython-input-1-3f44b9a7c528>\u001b[0m in \u001b[0;36m<module>\u001b[0;34m()\u001b[0m\n\u001b[0;32m----> 1\u001b[0;31m \u001b[0msaver\u001b[0m \u001b[0;34m=\u001b[0m \u001b[0mtf\u001b[0m\u001b[0;34m.\u001b[0m\u001b[0mtrain\u001b[0m\u001b[0;34m.\u001b[0m\u001b[0mSaver\u001b[0m\u001b[0;34m(\u001b[0m\u001b[0;34m)\u001b[0m\u001b[0;34m\u001b[0m\u001b[0m\n\u001b[0m\u001b[1;32m      2\u001b[0m \u001b[0msaver\u001b[0m\u001b[0;34m.\u001b[0m\u001b[0msave\u001b[0m\u001b[0;34m(\u001b[0m\u001b[0msess\u001b[0m\u001b[0;34m,\u001b[0m\u001b[0;34m'./grasp_quality_model/grasp_euler_quality_network.ckpt'\u001b[0m\u001b[0;34m)\u001b[0m\u001b[0;34m\u001b[0m\u001b[0m\n",
      "\u001b[0;31mNameError\u001b[0m: name 'tf' is not defined"
     ]
    }
   ],
   "source": [
    "saver = tf.train.Saver()\n",
    "saver.save(sess,'./grasp_quality_model/grasp_quaternion_quality_network.ckpt')"
   ]
  },
  {
   "cell_type": "code",
   "execution_count": 13,
   "metadata": {},
   "outputs": [],
   "source": [
    "from matplotlib import pyplot as plt\n",
    "%matplotlib inline"
   ]
  },
  {
   "cell_type": "code",
   "execution_count": 14,
   "metadata": {},
   "outputs": [
    {
     "data": {
      "image/png": "[encoded data removed]",
      "text/plain": [
       "<Figure size 432x288 with 1 Axes>"
      ]
     },
     "metadata": {
      "needs_background": "light"
     },
     "output_type": "display_data"
    }
   ],
   "source": [
    "plt.plot(training_acc_list)\n",
    "plt.plot(test_acc_list)\n",
    "plt.show()"
   ]
  }
 ],
 "metadata": {
  "kernelspec": {
   "display_name": "Python 2",
   "language": "python",
   "name": "python2"
  },
  "language_info": {
   "codemirror_mode": {
    "name": "ipython",
    "version": 2
   },
   "file_extension": ".py",
   "mimetype": "text/x-python",
   "name": "python",
   "nbconvert_exporter": "python",
   "pygments_lexer": "ipython2",
   "version": "2.7.12"
  }
 },
 "nbformat": 4,
 "nbformat_minor": 2
}
