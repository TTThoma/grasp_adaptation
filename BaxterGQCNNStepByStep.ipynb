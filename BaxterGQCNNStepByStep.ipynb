{
 "cells": [
  {
   "cell_type": "code",
   "execution_count": 1,
   "metadata": {},
   "outputs": [],
   "source": [
    "import struct\n",
    "import copy\n",
    "\n",
    "import rospy\n",
    "import gazebo_msgs.srv\n",
    "import geometry_msgs.msg\n",
    "import std_msgs.msg\n",
    "import baxter_core_msgs.srv\n",
    "\n",
    "import tf.transformations\n",
    "import baxter_interface\n",
    "\n",
    "import numpy as np\n",
    "from utils import *\n",
    "from baxter_pickplace_interface import *\n",
    "from matplotlib import pyplot as plt\n",
    "%matplotlib inline"
   ]
  },
  {
   "cell_type": "markdown",
   "metadata": {},
   "source": [
    "### Init Node"
   ]
  },
  {
   "cell_type": "code",
   "execution_count": 2,
   "metadata": {},
   "outputs": [],
   "source": [
    "rospy.init_node(\"ik_pick_and_place_demo\")"
   ]
  },
  {
   "cell_type": "markdown",
   "metadata": {},
   "source": [
    "### Connect robot"
   ]
  },
  {
   "cell_type": "code",
   "execution_count": 3,
   "metadata": {
    "scrolled": true
   },
   "outputs": [
    {
     "name": "stdout",
     "output_type": "stream",
     "text": [
      "Getting robot state... \n",
      "Enabling robot... \n",
      "[INFO] [1566265532.523592, 326.321000]: Robot Enabled\n",
      "Moving the left arm to start pose...\n",
      "Running. Ctrl-c to quit\n"
     ]
    }
   ],
   "source": [
    "limb = \"left\"\n",
    "hover_distance = 0.12\n",
    "pnp = PickAndPlace(limb, hover_distance)\n",
    "pnp.move_to_start()"
   ]
  },
  {
   "cell_type": "markdown",
   "metadata": {},
   "source": [
    "### Spawn the environment"
   ]
  },
  {
   "cell_type": "code",
   "execution_count": 5,
   "metadata": {},
   "outputs": [],
   "source": [
    "rospy.wait_for_service('/gazebo/spawn_sdf_model')\n",
    "rospy.wait_for_service('/gazebo/spawn_urdf_model')\n",
    "spawn_sdf = rospy.ServiceProxy('/gazebo/spawn_sdf_model', gazebo_msgs.srv.SpawnModel)\n",
    "spawn_urdf = rospy.ServiceProxy('/gazebo/spawn_urdf_model', gazebo_msgs.srv.SpawnModel)\n",
    "\n",
    "camera_quaternion = tf.transformations.quaternion_from_euler(0., np.pi / 2., 0.)\n",
    "spawn_gazebo_model(spawn_urdf, \"realsense\", \"rs200\", 0.65, 0.0, 0.7825+0.7, \n",
    "                   qx=camera_quaternion[0],qy=camera_quaternion[1],qz=camera_quaternion[2],qw=camera_quaternion[3])\n",
    "spawn_gazebo_model(spawn_sdf, \"cafe_table\", \"cafe_table\", 0.8, 0.0, 0.0)\n",
    "# spawn_gazebo_model(spawn_sdf, \"basket\", \"start_box\", 0.65, 0.0, 0.7825)\n",
    "\n",
    "number_of_object=1\n",
    "for i in range(number_of_object):\n",
    "    rnd_x = 0.01*(2.*np.random.uniform()-1.) + 0.65\n",
    "    rnd_y = 0.01*(2.*np.random.uniform()-1.)\n",
    "    rnd_z = 1.0\n",
    "    rnd_roll = 2.*np.pi*np.random.uniform()\n",
    "    rnd_pitch = 2.*np.pi*np.random.uniform()\n",
    "    rnd_ywa = 2.*np.pi*np.random.uniform()\n",
    "    rnd_quaternion = tf.transformations.quaternion_from_euler(rnd_roll,rnd_pitch,rnd_ywa)\n",
    "    spawn_gazebo_model(spawn_sdf, \"t_shape\", \"object\"+str(i), \n",
    "                       rnd_x, rnd_y, rnd_z,\n",
    "                       rnd_quaternion[0],rnd_quaternion[1],rnd_quaternion[2],rnd_quaternion[3])"
   ]
  },
  {
   "cell_type": "markdown",
   "metadata": {},
   "source": [
    "### Move robot arm to starting pose"
   ]
  },
  {
   "cell_type": "code",
   "execution_count": 6,
   "metadata": {},
   "outputs": [
    {
     "name": "stdout",
     "output_type": "stream",
     "text": [
      "Moving the left arm to start pose...\n",
      "Running. Ctrl-c to quit\n"
     ]
    }
   ],
   "source": [
    "pnp.move_to_start()"
   ]
  },
  {
   "cell_type": "markdown",
   "metadata": {},
   "source": [
    "### Get RGBD image test"
   ]
  },
  {
   "cell_type": "code",
   "execution_count": 7,
   "metadata": {
    "scrolled": false
   },
   "outputs": [
    {
     "data": {
      "image/png": "[encoded data removed]",
      "text/plain": [
       "<Figure size 432x288 with 1 Axes>"
      ]
     },
     "metadata": {
      "needs_background": "light"
     },
     "output_type": "display_data"
    },
    {
     "data": {
      "image/png": "[encoded data removed]",
      "text/plain": [
       "<Figure size 432x288 with 1 Axes>"
      ]
     },
     "metadata": {
      "needs_background": "light"
     },
     "output_type": "display_data"
    }
   ],
   "source": [
    "observation = get_rgbd_image()\n",
    "\n",
    "# cropping parameter for cam height 1.0\n",
    "cx = 285\n",
    "cy = 255\n",
    "wx = 115\n",
    "wy = 135\n",
    "\n",
    "color_data = observation[\"color\"][cy-wy:cy+wy,cx-wx:cx+wx,:]\n",
    "depth_data = np.float32(observation[\"depth\"][cy-wy:cy+wy,cx-wx:cx+wx])*0.001\n",
    "\n",
    "from matplotlib import pyplot as plt\n",
    "%matplotlib inline\n",
    "plt.figure()\n",
    "plt.imshow(observation[\"depth\"])\n",
    "plt.figure()\n",
    "plt.imshow(depth_data)\n",
    "plt.show()"
   ]
  },
  {
   "cell_type": "markdown",
   "metadata": {},
   "source": [
    "### Call FCGQCNN"
   ]
  },
  {
   "cell_type": "code",
   "execution_count": 24,
   "metadata": {},
   "outputs": [
    {
     "name": "stdout",
     "output_type": "stream",
     "text": [
      "/home/dof6/catkin_ws/src/grasp_adaptation/scripts/grasp_experts/cfg/examples/gqcnn_pj.yaml\n",
      "/home/dof6/catkin_ws/src/grasp_adaptation/scripts/grasp_experts/models/GQCNN-4.0-PJ\n",
      "\u001b[35mGQCNNModelFactory \u001b[32mINFO    \u001b[0m \u001b[37mInitializing GQ-CNN with Tensorflow as backend...\u001b[0m\n",
      "\u001b[35mGQCNNTF    \u001b[32mINFO    \u001b[0m \u001b[37mBuilding Network...\u001b[0m\n",
      "\u001b[35mGQCNNTF    \u001b[32mINFO    \u001b[0m \u001b[37mBuilding Image Stream...\u001b[0m\n",
      "\u001b[35mGQCNNTF    \u001b[32mINFO    \u001b[0m \u001b[37mBuilding convolutional layer: conv1_1...\u001b[0m\n",
      "\u001b[35mGQCNNTF    \u001b[32mINFO    \u001b[0m \u001b[37mBuilding convolutional layer: conv1_2...\u001b[0m\n",
      "\u001b[35mGQCNNTF    \u001b[32mINFO    \u001b[0m \u001b[37mBuilding convolutional layer: conv2_1...\u001b[0m\n",
      "\u001b[35mGQCNNTF    \u001b[32mINFO    \u001b[0m \u001b[37mBuilding convolutional layer: conv2_2...\u001b[0m\n",
      "\u001b[35mGQCNNTF    \u001b[32mINFO    \u001b[0m \u001b[37mBuilding fully connected layer: fc3...\u001b[0m\n",
      "\u001b[35mGQCNNTF    \u001b[32mINFO    \u001b[0m \u001b[37mBuilding Pose Stream...\u001b[0m\n",
      "\u001b[35mGQCNNTF    \u001b[32mINFO    \u001b[0m \u001b[37mBuilding Fully Connected Pose Layer: pc1...\u001b[0m\n",
      "\u001b[35mGQCNNTF    \u001b[32mINFO    \u001b[0m \u001b[37mBuilding Merge Stream...\u001b[0m\n",
      "\u001b[35mGQCNNTF    \u001b[32mINFO    \u001b[0m \u001b[37mBuilding Merge Layer: fc4...\u001b[0m\n",
      "\u001b[35mGQCNNTF    \u001b[32mINFO    \u001b[0m \u001b[37mBuilding fully connected layer: fc5...\u001b[0m\n",
      "\u001b[35mGQCNNTF    \u001b[32mINFO    \u001b[0m \u001b[37mBuilding Softmax Layer...\u001b[0m\n",
      "\u001b[35mGQCNNTF    \u001b[32mINFO    \u001b[0m \u001b[37mInitializing TF Session...\u001b[0m\n",
      "\u001b[35mGQCNNTF    \u001b[32mINFO    \u001b[0m \u001b[37mClosing TF Session...\u001b[0m\n",
      "\u001b[35mCrossEntropyRobustGraspingPolicy \u001b[32mINFO    \u001b[0m \u001b[37mSampling seed set\u001b[0m\n",
      "\u001b[35mCrossEntropyRobustGraspingPolicy \u001b[32mINFO    \u001b[0m \u001b[37mSampled 129 grasps\u001b[0m\n",
      "\u001b[35mCrossEntropyRobustGraspingPolicy \u001b[32mINFO    \u001b[0m \u001b[37mComputing the seed set took 0.062 sec\u001b[0m\n",
      "\u001b[35mCrossEntropyRobustGraspingPolicy \u001b[32mINFO    \u001b[0m \u001b[37mCEM iter 0\u001b[0m\n",
      "\u001b[35mGQCnnQualityFunction \u001b[32mINFO    \u001b[0m \u001b[37mImage transformation took 0.151 sec\u001b[0m\n",
      "\u001b[35mGQCnnQualityFunction \u001b[32mINFO    \u001b[0m \u001b[37mInference took 0.099 sec\u001b[0m\n",
      "\u001b[35mCrossEntropyRobustGraspingPolicy \u001b[32mINFO    \u001b[0m \u001b[37mPrediction took 0.254 sec\u001b[0m\n",
      "\u001b[35mCrossEntropyRobustGraspingPolicy \u001b[32mINFO    \u001b[0m \u001b[37mElite set computation took 0.011 sec\u001b[0m\n",
      "\u001b[35mCrossEntropyRobustGraspingPolicy \u001b[32mINFO    \u001b[0m \u001b[37mGMM fitting with 14 components took 0.012 sec\u001b[0m\n",
      "\u001b[35mCrossEntropyRobustGraspingPolicy \u001b[32mINFO    \u001b[0m \u001b[37mGMM sampling took 0.004 sec\u001b[0m\n",
      "\u001b[35mCrossEntropyRobustGraspingPolicy \u001b[32mINFO    \u001b[0m \u001b[37mResample loop took 0.013 sec\u001b[0m\n",
      "\u001b[35mCrossEntropyRobustGraspingPolicy \u001b[32mINFO    \u001b[0m \u001b[37mResampling took 0.043 sec\u001b[0m\n",
      "\u001b[35mCrossEntropyRobustGraspingPolicy \u001b[32mINFO    \u001b[0m \u001b[37mCEM iter 1\u001b[0m\n",
      "\u001b[35mGQCnnQualityFunction \u001b[32mINFO    \u001b[0m \u001b[37mImage transformation took 0.056 sec\u001b[0m\n",
      "\u001b[35mGQCnnQualityFunction \u001b[32mINFO    \u001b[0m \u001b[37mInference took 0.017 sec\u001b[0m\n",
      "\u001b[35mCrossEntropyRobustGraspingPolicy \u001b[32mINFO    \u001b[0m \u001b[37mPrediction took 0.076 sec\u001b[0m\n",
      "\u001b[35mCrossEntropyRobustGraspingPolicy \u001b[32mINFO    \u001b[0m \u001b[37mElite set computation took 0.009 sec\u001b[0m\n",
      "\u001b[35mCrossEntropyRobustGraspingPolicy \u001b[32mINFO    \u001b[0m \u001b[37mGMM fitting with 7 components took 0.016 sec\u001b[0m\n",
      "\u001b[35mCrossEntropyRobustGraspingPolicy \u001b[32mINFO    \u001b[0m \u001b[37mGMM sampling took 0.002 sec\u001b[0m\n",
      "\u001b[35mCrossEntropyRobustGraspingPolicy \u001b[32mINFO    \u001b[0m \u001b[37mResample loop took 0.009 sec\u001b[0m\n",
      "\u001b[35mCrossEntropyRobustGraspingPolicy \u001b[32mINFO    \u001b[0m \u001b[37mResampling took 0.040 sec\u001b[0m\n",
      "\u001b[35mCrossEntropyRobustGraspingPolicy \u001b[32mINFO    \u001b[0m \u001b[37mCEM iter 2\u001b[0m\n",
      "\u001b[35mGQCnnQualityFunction \u001b[32mINFO    \u001b[0m \u001b[37mImage transformation took 0.059 sec\u001b[0m\n",
      "\u001b[35mGQCnnQualityFunction \u001b[32mINFO    \u001b[0m \u001b[37mInference took 0.016 sec\u001b[0m\n",
      "\u001b[35mCrossEntropyRobustGraspingPolicy \u001b[32mINFO    \u001b[0m \u001b[37mPrediction took 0.078 sec\u001b[0m\n",
      "\u001b[35mCrossEntropyRobustGraspingPolicy \u001b[32mINFO    \u001b[0m \u001b[37mElite set computation took 0.005 sec\u001b[0m\n",
      "\u001b[35mCrossEntropyRobustGraspingPolicy \u001b[32mINFO    \u001b[0m \u001b[37mGMM fitting with 7 components took 0.011 sec\u001b[0m\n",
      "\u001b[35mCrossEntropyRobustGraspingPolicy \u001b[32mINFO    \u001b[0m \u001b[37mGMM sampling took 0.002 sec\u001b[0m\n",
      "\u001b[35mCrossEntropyRobustGraspingPolicy \u001b[32mINFO    \u001b[0m \u001b[37mResample loop took 0.011 sec\u001b[0m\n",
      "\u001b[35mCrossEntropyRobustGraspingPolicy \u001b[32mINFO    \u001b[0m \u001b[37mResampling took 0.032 sec\u001b[0m\n",
      "\u001b[35mGQCnnQualityFunction \u001b[32mINFO    \u001b[0m \u001b[37mImage transformation took 0.072 sec\u001b[0m\n",
      "\u001b[35mGQCnnQualityFunction \u001b[32mINFO    \u001b[0m \u001b[37mInference took 0.017 sec\u001b[0m\n",
      "\u001b[35mCrossEntropyRobustGraspingPolicy \u001b[32mINFO    \u001b[0m \u001b[37mFinal prediction took 0.092 sec\u001b[0m\n",
      "[0.5620166063308716, 0.6626754999160767, 0.8226331472396851, 0.7281910181045532, 0.8487315773963928, 0.6893734335899353, 0.8242872357368469, 0.754699170589447, 0.8470665216445923, 0.7729830145835876, 0.7779353857040405, 0.8267014026641846, 0.6692208647727966, 0.7791343331336975, 0.8378419876098633, 0.7337779402732849, 0.5924190878868103, 0.614783763885498, 0.7275393009185791, 0.7382509708404541, 0.7197280526161194, 0.7245882749557495, 0.7403695583343506, 0.7430278658866882, 0.7399746775627136, 0.681337833404541, 0.8737005591392517, 0.8712961673736572, 0.8154595494270325, 0.613088071346283, 0.4419632852077484, 0.7860586643218994, 0.7813655138015747, 0.8125050663948059, 0.7076302170753479, 0.7887483239173889, 0.6827171444892883, 0.4102174937725067, 0.7800795435905457, 0.8589511513710022, 0.8047856092453003, 0.8265586495399475, 0.8483685255050659, 0.7602291107177734, 0.8284562230110168, 0.8372886180877686, 0.7778840065002441, 0.7158229351043701, 0.6390361189842224, 0.6004952192306519, 0.5724359154701233, 0.6999270915985107, 0.8230385184288025, 0.8470667004585266, 0.8366395235061646, 0.5119197368621826, 0.5198184847831726, 0.5649763941764832, 0.6446220278739929, 0.7769575119018555, 0.5079047679901123, 0.7282553911209106, 0.615170955657959, 0.6061874628067017]\n",
      "[INFO] [1566269573.225961, 4362.036000]: Planning took 0.700 sec\n",
      "\u001b[35mrosout     \u001b[32mINFO    \u001b[0m \u001b[37mPlanning took 0.700 sec\u001b[0m\n"
     ]
    },
    {
     "data": {
      "image/png": "[encoded data removed]",
      "text/plain": [
       "<Figure size 720x720 with 1 Axes>"
      ]
     },
     "metadata": {
      "needs_background": "light"
     },
     "output_type": "display_data"
    }
   ],
   "source": [
    "import json\n",
    "import os\n",
    "import time\n",
    "\n",
    "import numpy as np\n",
    "\n",
    "from autolab_core import YamlConfig, Logger\n",
    "from perception import (BinaryImage, CameraIntrinsics, ColorImage, DepthImage,\n",
    "                        RgbdImage)\n",
    "from visualization import Visualizer2D as vis\n",
    "\n",
    "from gqcnn.grasping import (RobustGraspingPolicy,\n",
    "                            CrossEntropyRobustGraspingPolicy, RgbdImageState,\n",
    "                            FullyConvolutionalGraspingPolicyParallelJaw,\n",
    "                            FullyConvolutionalGraspingPolicySuction)\n",
    "from gqcnn.utils import GripperMode\n",
    "\n",
    "# model_name = 'FC-GQCNN-4.0-PJ'\n",
    "# config_filename = None\n",
    "# fully_conv = True\n",
    "\n",
    "model_name = 'GQCNN-4.0-PJ'\n",
    "config_filename = None\n",
    "fully_conv = False\n",
    "\n",
    "# model_name = 'GQCNN-2.0'\n",
    "# config_filename = 'scripts/grasp_experts/cfg/examples/replication/dex-net_2.0.yaml'\n",
    "# fully_conv = False\n",
    "\n",
    "# model_name = 'GQCNN-2.1'\n",
    "# config_filename = 'scripts/grasp_experts/cfg/examples/replication/dex-net_2.1.yaml'\n",
    "# fully_conv = False\n",
    "\n",
    "# model_name = 'GQCNN-3.0'\n",
    "# config_filename = 'scripts/grasp_experts/cfg/examples/replication/dex-net_3.0.yaml'\n",
    "# fully_conv = False\n",
    "\n",
    "depth_im_filename = None\n",
    "segmask_filename = None\n",
    "camera_intr_filename = None\n",
    "model_dir = None\n",
    "__file__ = os.path.abspath('')\n",
    "\n",
    "assert not (fully_conv and depth_im_filename is not None\n",
    "            and segmask_filename is None\n",
    "            ), \"Fully-Convolutional policy expects a segmask.\"\n",
    "\n",
    "if camera_intr_filename is None:\n",
    "    camera_intr_filename = os.path.join(os.path.dirname(os.path.realpath(__file__)),\n",
    "                                        \"scripts/grasp_experts/data/calib/primesense/primesense.intr\")\n",
    "\n",
    "# Set model if provided.\n",
    "if model_dir is None:\n",
    "    model_dir = os.path.join(os.path.dirname(os.path.realpath(__file__)),\n",
    "                             \"scripts/grasp_experts/models\")\n",
    "model_path = os.path.join(model_dir, model_name)\n",
    "\n",
    "# Get configs.\n",
    "model_config = json.load(open(os.path.join(model_path, \"config.json\"), \"r\"))\n",
    "try:\n",
    "    gqcnn_config = model_config[\"gqcnn\"]\n",
    "    gripper_mode = gqcnn_config[\"gripper_mode\"]\n",
    "except KeyError:\n",
    "    gqcnn_config = model_config[\"gqcnn_config\"]\n",
    "    input_data_mode = gqcnn_config[\"input_data_mode\"]\n",
    "    if input_data_mode == \"tf_image\":\n",
    "        gripper_mode = GripperMode.LEGACY_PARALLEL_JAW\n",
    "    elif input_data_mode == \"tf_image_suction\":\n",
    "        gripper_mode = GripperMode.LEGACY_SUCTION\n",
    "    elif input_data_mode == \"suction\":\n",
    "        gripper_mode = GripperMode.SUCTION\n",
    "    elif input_data_mode == \"multi_suction\":\n",
    "        gripper_mode = GripperMode.MULTI_SUCTION\n",
    "    elif input_data_mode == \"parallel_jaw\":\n",
    "        gripper_mode = GripperMode.PARALLEL_JAW\n",
    "    else:\n",
    "        raise ValueError(\n",
    "            \"Input data mode {} not supported!\".format(input_data_mode))\n",
    "        \n",
    "# Set config.\n",
    "if config_filename is None:\n",
    "    if (gripper_mode == GripperMode.LEGACY_PARALLEL_JAW\n",
    "            or gripper_mode == GripperMode.PARALLEL_JAW):\n",
    "        if fully_conv:\n",
    "            config_filename = os.path.join(\n",
    "                os.path.dirname(os.path.realpath(__file__)), \"scripts/grasp_experts/cfg/examples/fc_gqcnn_pj.yaml\")\n",
    "        else:\n",
    "            config_filename = os.path.join(\n",
    "                os.path.dirname(os.path.realpath(__file__)), \"scripts/grasp_experts/cfg/examples/gqcnn_pj.yaml\")\n",
    "    elif (gripper_mode == GripperMode.LEGACY_SUCTION\n",
    "          or gripper_mode == GripperMode.SUCTION):\n",
    "        if fully_conv:\n",
    "            config_filename = os.path.join(\n",
    "                os.path.dirname(os.path.realpath(__file__)), \"scripts/grasp_experts/cfg/examples/fc_gqcnn_suction.yaml\")\n",
    "        else:\n",
    "            config_filename = os.path.join(\n",
    "                os.path.dirname(os.path.realpath(__file__)), \"scripts/grasp_experts/cfg/examples/gqcnn_suction.yaml\")\n",
    "else:\n",
    "    config_filename = os.path.join(\n",
    "                os.path.dirname(os.path.realpath(__file__)), config_filename)\n",
    "print(config_filename)\n",
    "    \n",
    "# Read config.\n",
    "config = YamlConfig(config_filename)\n",
    "inpaint_rescale_factor = config[\"inpaint_rescale_factor\"]\n",
    "policy_config = config[\"policy\"]\n",
    "\n",
    "# Make relative paths absolute.\n",
    "if \"gqcnn_model\" in policy_config[\"metric\"]:\n",
    "    policy_config[\"metric\"][\"gqcnn_model\"] = model_path\n",
    "    if not os.path.isabs(policy_config[\"metric\"][\"gqcnn_model\"]):\n",
    "        policy_config[\"metric\"][\"gqcnn_model\"] = os.path.join(\n",
    "            os.path.dirname(os.path.realpath(__file__)), \"..\",\n",
    "            policy_config[\"metric\"][\"gqcnn_model\"])\n",
    "\n",
    "# Setup sensor.\n",
    "camera_intr = CameraIntrinsics.load(camera_intr_filename)\n",
    "\n",
    "# Read images.\n",
    "depth_im = DepthImage(depth_data, frame=camera_intr.frame)\n",
    "color_im = ColorImage(color_data, frame=camera_intr.frame)\n",
    "\n",
    "# Optionally read a segmask.\n",
    "segmask = None\n",
    "if segmask_filename is not None:\n",
    "    segmask = BinaryImage.open(segmask_filename)\n",
    "valid_px_mask = depth_im.invalid_pixel_mask().inverse()\n",
    "if segmask is None:\n",
    "    segmask = valid_px_mask\n",
    "else:\n",
    "    segmask = segmask.mask_binary(valid_px_mask)\n",
    "\n",
    "# Inpaint.\n",
    "depth_im = depth_im.inpaint(rescale_factor=inpaint_rescale_factor)\n",
    "\n",
    "if \"input_images\" in policy_config[\"vis\"] and policy_config[\"vis\"][\n",
    "        \"input_images\"]:\n",
    "    vis.figure(size=(10, 10))\n",
    "    num_plot = 1\n",
    "    if segmask is not None:\n",
    "        num_plot = 2\n",
    "    vis.subplot(1, num_plot, 1)\n",
    "    vis.imshow(depth_im)\n",
    "    if segmask is not None:\n",
    "        vis.subplot(1, num_plot, 2)\n",
    "        vis.imshow(segmask)\n",
    "    vis.show()\n",
    "\n",
    "# Create state.\n",
    "rgbd_im = RgbdImage.from_color_and_depth(color_im, depth_im)\n",
    "state = RgbdImageState(rgbd_im, camera_intr, segmask=segmask)\n",
    "\n",
    "# Set input sizes for fully-convolutional policy.\n",
    "if fully_conv:\n",
    "    policy_config[\"metric\"][\"fully_conv_gqcnn_config\"][\n",
    "        \"im_height\"] = depth_im.shape[0]\n",
    "    policy_config[\"metric\"][\"fully_conv_gqcnn_config\"][\n",
    "        \"im_width\"] = depth_im.shape[1]\n",
    "\n",
    "# Init policy.\n",
    "if fully_conv:\n",
    "    # TODO(vsatish): We should really be doing this in some factory policy.\n",
    "    if policy_config[\"type\"] == \"fully_conv_suction\":\n",
    "        policy = FullyConvolutionalGraspingPolicySuction(policy_config)\n",
    "    elif policy_config[\"type\"] == \"fully_conv_pj\":\n",
    "        policy = FullyConvolutionalGraspingPolicyParallelJaw(policy_config)\n",
    "    else:\n",
    "        raise ValueError(\n",
    "            \"Invalid fully-convolutional policy type: {}\".format(\n",
    "                policy_config[\"type\"]))\n",
    "else:\n",
    "    policy_type = \"cem\"\n",
    "    if \"type\" in policy_config:\n",
    "        policy_type = policy_config[\"type\"]\n",
    "    if policy_type == \"ranking\":\n",
    "        policy = RobustGraspingPolicy(policy_config)\n",
    "    elif policy_type == \"cem\":\n",
    "        policy = CrossEntropyRobustGraspingPolicy(policy_config)\n",
    "    else:\n",
    "        raise ValueError(\"Invalid policy type: {}\".format(policy_type))\n",
    "\n",
    "# Query policy.\n",
    "policy_start = time.time()\n",
    "actions, q_values = policy.action_set(state)\n",
    "# print(actions)\n",
    "print(q_values)\n",
    "idx = np.argmax(q_values)\n",
    "q_value = q_values[idx]\n",
    "action = actions[idx]\n",
    "rospy.loginfo(\"Planning took %.3f sec\" % (time.time() - policy_start))\n",
    "\n",
    "# Vis final grasp.\n",
    "if policy_config[\"vis\"][\"final_grasp\"]:\n",
    "    vis.figure(size=(10, 10))\n",
    "    depth_im = DepthImage(depth_data - 0.1, frame=camera_intr.frame)\n",
    "    vis.imshow(depth_im,\n",
    "               vmin=policy_config[\"vis\"][\"vmin\"],\n",
    "               vmax=policy_config[\"vis\"][\"vmax\"])\n",
    "    vis.grasp(action, scale=2.5, show_center=True, show_axis=True)\n",
    "    vis.title(\"Planned grasp at depth {0:.3f}m with Q={1:.3f}\".format(\n",
    "        action.depth, q_value))\n",
    "    vis.show()"
   ]
  },
  {
   "cell_type": "markdown",
   "metadata": {},
   "source": [
    "### Transform frame (camera $\\rightarrow$ robot)"
   ]
  },
  {
   "cell_type": "code",
   "execution_count": 42,
   "metadata": {},
   "outputs": [
    {
     "name": "stdout",
     "output_type": "stream",
     "text": [
      "[[ 0.     -1.      0.      0.65  ]\n",
      " [-1.      0.      0.     -0.03  ]\n",
      " [ 0.      0.     -1.      1.4825]\n",
      " [ 0.      0.      0.      1.    ]]\n",
      "(141, 173)\n",
      "(270, 230)\n",
      "0.643\n",
      "0.6692964782023803\n",
      "1.2063781640940108\n",
      "(311, 293)\n"
     ]
    }
   ],
   "source": [
    "from copy import deepcopy\n",
    "import tf.transformations\n",
    "\n",
    "depth_cam_rotation_matrix = np.zeros([4,4])\n",
    "depth_cam_rotation_matrix[1,0] = -1.\n",
    "depth_cam_rotation_matrix[0,1] = -1.\n",
    "depth_cam_rotation_matrix[2,2] = -1.\n",
    "depth_cam_rotation_matrix[3,3] = 1.\n",
    "depth_cam_rotation_matrix[0,3] = .65\n",
    "depth_cam_rotation_matrix[1,3] =-.03\n",
    "depth_cam_rotation_matrix[2,3] = 1.4825\n",
    "print(depth_cam_rotation_matrix)\n",
    "\n",
    "center_px, center_py = action.center.data.astype(np.int32)\n",
    "print(center_px, center_py)\n",
    "print(depth_data.shape)\n",
    "center_depth = depth_data[center_py,center_px]\n",
    "print(center_depth)\n",
    "print(action.depth)\n",
    "gripper_angle = action.angle\n",
    "print(gripper_angle)\n",
    "\n",
    "center_px = center_px - wx + cx\n",
    "center_py = center_py - wy + cy\n",
    "print(center_px,center_py)\n",
    "\n",
    "depth_camera_info = observation[\"depth_camera_info\"]\n",
    "K = np.asarray(depth_camera_info.K).reshape([3,3])\n",
    "\n",
    "projected_eef_position = np.asarray([center_px,center_py,1.])\n",
    "scaled_eef_position = np.matmul(np.linalg.inv(K),projected_eef_position)\n",
    "scaled_eef_position = scaled_eef_position*center_depth\n",
    "scaled_eef_position[2] = action.depth\n",
    "eef_position = np.matmul(depth_cam_rotation_matrix[:3,:3],scaled_eef_position) + depth_cam_rotation_matrix[:3,3]\n",
    "\n",
    "approaching_axis = np.asarray([0.,0.,-1.])\n",
    "gripper_axis = np.asarray([-np.sin(gripper_angle),-np.cos(gripper_angle),0.])\n",
    "\n",
    "x_axis = np.cross(gripper_axis, approaching_axis) \n",
    "y_axis = gripper_axis\n",
    "z_axis = approaching_axis\n",
    "\n",
    "gripper_rotation_mtx = np.identity(4)\n",
    "gripper_rotation_mtx[:3,0] = x_axis\n",
    "gripper_rotation_mtx[:3,1] = y_axis\n",
    "gripper_rotation_mtx[:3,2] = z_axis\n",
    "# gripper_rotation_mtx[:3,:3] = depth_cam_rotation_matrix[:3,:3]*gripper_rotation_mtx[:3,:3]\n",
    "eef_quaternion = tf.transformations.quaternion_from_matrix(gripper_rotation_mtx)\n",
    "\n",
    "pose = geometry_msgs.msg.Pose()\n",
    "pose.position.x = eef_position[0]\n",
    "pose.position.y = eef_position[1]\n",
    "pose.position.z = eef_position[2] - 0.9115 - 0.02\n",
    "pose.orientation.x = eef_quaternion[0]\n",
    "pose.orientation.y = eef_quaternion[1]\n",
    "pose.orientation.z = eef_quaternion[2]\n",
    "pose.orientation.w = eef_quaternion[3]"
   ]
  },
  {
   "cell_type": "markdown",
   "metadata": {},
   "source": [
    "### Control robot"
   ]
  },
  {
   "cell_type": "code",
   "execution_count": 43,
   "metadata": {},
   "outputs": [
    {
     "name": "stdout",
     "output_type": "stream",
     "text": [
      "Moving the left arm to ready pose...\n",
      "Running. Ctrl-c to quit\n",
      "IK Solution SUCCESS - Valid Joint Solution Found from Seed Type: Current Joint Angles\n",
      "IK Joint Solution:\n",
      "{'left_w0': 0.5921878973964827, 'left_w1': 0.8183864183015197, 'left_w2': -2.87937662206952, 'left_e0': -0.6032600802691509, 'left_e1': 1.7160761274124898, 'left_s0': -0.8498439758367157, 'left_s1': -0.7735945863490082}\n",
      "------------------\n",
      "IK Solution SUCCESS - Valid Joint Solution Found from Seed Type: Current Joint Angles\n",
      "IK Joint Solution:\n",
      "{'left_w0': 0.6990879408303459, 'left_w1': 0.6581286766362324, 'left_w2': -2.9298448718529677, 'left_e0': -0.4764583140703216, 'left_e1': 1.6268891636426561, 'left_s0': -0.9346900035521919, 'left_s1': -0.5368318975261435}\n",
      "------------------\n",
      "IK Solution SUCCESS - Valid Joint Solution Found from Seed Type: Current Joint Angles\n",
      "IK Joint Solution:\n",
      "{'left_w0': 0.585994559431226, 'left_w1': 0.8318146840517912, 'left_w2': -2.8713725168986737, 'left_e0': -0.614526359859559, 'left_e1': 1.709040172041656, 'left_s0': -0.840678206540386, 'left_s1': -0.7785333877497401}\n",
      "------------------\n"
     ]
    }
   ],
   "source": [
    "pnp.move_to_ready()\n",
    "pnp.pick(pose)"
   ]
  }
 ],
 "metadata": {
  "kernelspec": {
   "display_name": "Python 2",
   "language": "python",
   "name": "python2"
  },
  "language_info": {
   "codemirror_mode": {
    "name": "ipython",
    "version": 2
   },
   "file_extension": ".py",
   "mimetype": "text/x-python",
   "name": "python",
   "nbconvert_exporter": "python",
   "pygments_lexer": "ipython2",
   "version": "2.7.12"
  }
 },
 "nbformat": 4,
 "nbformat_minor": 2
}
