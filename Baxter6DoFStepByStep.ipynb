{
 "cells": [
  {
   "cell_type": "code",
   "execution_count": 1,
   "metadata": {},
   "outputs": [
    {
     "name": "stderr",
     "output_type": "stream",
     "text": [
      "/home/dof6/.local/lib/python2.7/site-packages/requests/__init__.py:83: RequestsDependencyWarning: Old version of cryptography ([1, 2, 3]) may cause slowdown.\n",
      "  warnings.warn(warning, RequestsDependencyWarning)\n"
     ]
    }
   ],
   "source": [
    "import struct\n",
    "import copy\n",
    "\n",
    "import rospy\n",
    "import gazebo_msgs.srv\n",
    "import geometry_msgs.msg\n",
    "import std_msgs.msg\n",
    "import baxter_core_msgs.srv\n",
    "\n",
    "from tf import transformations\n",
    "import tensorflow as tf\n",
    "import baxter_interface\n",
    "\n",
    "import numpy as np\n",
    "from utils import *\n",
    "from baxter_pickplace_interface import *\n",
    "from matplotlib import pyplot as plt\n",
    "%matplotlib inline"
   ]
  },
  {
   "cell_type": "code",
   "execution_count": 4,
   "metadata": {},
   "outputs": [
    {
     "name": "stderr",
     "output_type": "stream",
     "text": [
      "W0804 17:35:24.107898 140279524488960 deprecation.py:323] From <ipython-input-4-a338587a3bbd>:5: conv2d (from tensorflow.python.layers.convolutional) is deprecated and will be removed in a future version.\n",
      "Instructions for updating:\n",
      "Use `tf.keras.layers.Conv2D` instead.\n",
      "W0804 17:35:24.333322 140279524488960 deprecation.py:323] From <ipython-input-4-a338587a3bbd>:7: batch_normalization (from tensorflow.python.layers.normalization) is deprecated and will be removed in a future version.\n",
      "Instructions for updating:\n",
      "Use keras.layers.BatchNormalization instead.  In particular, `tf.control_dependencies(tf.GraphKeys.UPDATE_OPS)` should not be used (consult the `tf.keras.layers.batch_normalization` documentation).\n",
      "W0804 17:35:24.432956 140279524488960 deprecation.py:323] From <ipython-input-4-a338587a3bbd>:12: max_pooling2d (from tensorflow.python.layers.pooling) is deprecated and will be removed in a future version.\n",
      "Instructions for updating:\n",
      "Use keras.layers.MaxPooling2D instead.\n",
      "W0804 17:35:24.755734 140279524488960 deprecation.py:323] From <ipython-input-4-a338587a3bbd>:29: dense (from tensorflow.python.layers.core) is deprecated and will be removed in a future version.\n",
      "Instructions for updating:\n",
      "Use keras.layers.dense instead.\n"
     ]
    }
   ],
   "source": [
    "def quality_network_build(cropped_depth_image, gripper_quaternion, reuse=False, use_bn=True, network_type=\"large\"):\n",
    "    with tf.variable_scope(\"quality_network\",reuse=reuse):\n",
    "        if network_type is \"large\":\n",
    "            h = tf.layers.conv2d(cropped_depth_image, 32, [7,7], activation=tf.nn.relu,\n",
    "                                 kernel_initializer=tf.random_normal_initializer(stddev=0.01), name=\"conv1\")\n",
    "            if use_bn:\n",
    "                h = tf.layers.batch_normalization(h)\n",
    "            h = tf.layers.conv2d(h, 32, [7,7], activation=tf.nn.relu,\n",
    "                                 kernel_initializer=tf.random_normal_initializer(stddev=0.01), name=\"conv2\")\n",
    "            if use_bn:\n",
    "                h = tf.layers.batch_normalization(h)\n",
    "            h = tf.layers.max_pooling2d(h, [2,2], [2,2], name=\"max1\")\n",
    "            h = tf.layers.conv2d(h, 32, [5,5], activation=tf.nn.relu,\n",
    "                                 kernel_initializer=tf.random_normal_initializer(stddev=0.01), name=\"conv3\")\n",
    "            if use_bn:\n",
    "                h = tf.layers.batch_normalization(h)\n",
    "            h = tf.layers.conv2d(h, 32, [5,5], activation=tf.nn.relu,\n",
    "                                 kernel_initializer=tf.random_normal_initializer(stddev=0.01), name=\"conv4\")\n",
    "            if use_bn:\n",
    "                h = tf.layers.batch_normalization(h)\n",
    "            h = tf.layers.max_pooling2d(h, [3,3], [2,2], name=\"max2\")\n",
    "            h = tf.layers.conv2d(h, 128, [5,5], activation=tf.nn.relu,\n",
    "                                 kernel_initializer=tf.random_normal_initializer(stddev=0.01), name=\"conv5\")\n",
    "            if use_bn:\n",
    "                h = tf.layers.batch_normalization(h)\n",
    "            h = tf.reshape(h,[-1,128])\n",
    "            h = tf.concat([h, gripper_quaternion], axis=1)\n",
    "            h = tf.layers.dense(h, 256, activation=tf.nn.relu,\n",
    "                                kernel_initializer=tf.random_normal_initializer(stddev=0.01), name=\"fc1\")\n",
    "            h = tf.layers.dense(h, 256, activation=tf.nn.relu,\n",
    "                                kernel_initializer=tf.random_normal_initializer(stddev=0.01), name=\"fc2\")\n",
    "               \n",
    "        quality_logit = tf.layers.dense(h, 1,\n",
    "                                  kernel_initializer=tf.random_normal_initializer(stddev=0.01), name=\"quality_logit\")\n",
    "        quality = tf.sigmoid(quality_logit)\n",
    "    return quality_logit, quality\n",
    "\n",
    "cropped_depth_image_ph = tf.placeholder(tf.float32,[None,50,50,1])\n",
    "gripper_quaternion_ph = tf.placeholder(tf.float32,[None,4])\n",
    "_, quality_prediction = quality_network_build(cropped_depth_image_ph,gripper_quaternion_ph)"
   ]
  },
  {
   "cell_type": "code",
   "execution_count": null,
   "metadata": {},
   "outputs": [],
   "source": []
  }
 ],
 "metadata": {
  "kernelspec": {
   "display_name": "Python 2",
   "language": "python",
   "name": "python2"
  },
  "language_info": {
   "codemirror_mode": {
    "name": "ipython",
    "version": 2
   },
   "file_extension": ".py",
   "mimetype": "text/x-python",
   "name": "python",
   "nbconvert_exporter": "python",
   "pygments_lexer": "ipython2",
   "version": "2.7.12"
  }
 },
 "nbformat": 4,
 "nbformat_minor": 2
}
